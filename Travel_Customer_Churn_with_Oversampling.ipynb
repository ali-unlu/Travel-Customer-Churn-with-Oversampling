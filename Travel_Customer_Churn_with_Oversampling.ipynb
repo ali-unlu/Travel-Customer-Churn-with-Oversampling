{
  "nbformat": 4,
  "nbformat_minor": 0,
  "metadata": {
    "colab": {
      "name": "Travel Customer Churn with Oversampling.ipynb",
      "provenance": [],
      "collapsed_sections": [
        "jfHqFctNraMN"
      ],
      "authorship_tag": "ABX9TyPeLHx8Deu9Zz1kAPVrQRpc",
      "include_colab_link": true
    },
    "kernelspec": {
      "name": "python3",
      "display_name": "Python 3"
    },
    "language_info": {
      "name": "python"
    }
  },
  "cells": [
    {
      "cell_type": "markdown",
      "metadata": {
        "id": "view-in-github",
        "colab_type": "text"
      },
      "source": [
        "<a href=\"https://colab.research.google.com/github/ali-unlu/Travel-Customer-Churn-with-Oversampling/blob/main/Travel_Customer_Churn_with_Oversampling.ipynb\" target=\"_parent\"><img src=\"https://colab.research.google.com/assets/colab-badge.svg\" alt=\"Open In Colab\"/></a>"
      ]
    },
    {
      "cell_type": "markdown",
      "source": [
        "# Introduction \n",
        "\n",
        "The aim of this post is to  identify and visualize factors that contribute to customer churn of a travel company.  After EDA analysis, I will build prediction models to find:\n",
        "\n",
        "1. Classify if a customer is going to churn or not  \n",
        "2. Choose a model that will attach a probability to the churn to make it easier for customer service to target to prevent churn\n",
        "\n",
        "I did a similar analysis before by creating a simple logistic regression analysis but know I want to apply more comprehensive method. [Previously I analyzed bank customer data](https://github.com/ali-unlu/bank-customer-churn-analysis/blob/main/Bank_Customer_Churn.ipynb) and I looked for different data that I found this data on Kaggle. It was about the tour & travel company data that was realesed in 2018. More informatio about the data can be found [here.](https://www.kaggle.com/bayunova/tour-travels-customer-churn/data)"
      ],
      "metadata": {
        "id": "jfHqFctNraMN"
      }
    },
    {
      "cell_type": "markdown",
      "source": [
        "# Data \n",
        "\n",
        "I am using google colab ptaform so, the initial codes for mounting google drive to the colab platform.\n",
        "\n",
        "\n",
        "\n"
      ],
      "metadata": {
        "id": "oKqEcCtus66M"
      }
    },
    {
      "cell_type": "code",
      "source": [
        "from google.colab import drive\n",
        "drive.mount('/content/drive')\n",
        "# set the folder\n",
        "import sys\n",
        "sys.path.append('/content/drive/MyDrive/Python/IBM Machine Learning/Classification/Assigment')"
      ],
      "metadata": {
        "colab": {
          "base_uri": "https://localhost:8080/"
        },
        "id": "qBuVzB8eu1WN",
        "outputId": "ee29a395-55ea-47ba-edf4-da7fd68f23a8"
      },
      "execution_count": 1,
      "outputs": [
        {
          "output_type": "stream",
          "name": "stdout",
          "text": [
            "Drive already mounted at /content/drive; to attempt to forcibly remount, call drive.mount(\"/content/drive\", force_remount=True).\n"
          ]
        }
      ]
    },
    {
      "cell_type": "code",
      "source": [
        "import warnings\n",
        "warnings.filterwarnings(\"ignore\", category=DeprecationWarning) \n",
        "warnings.filterwarnings(\"ignore\", category=FutureWarning) \n",
        "warnings.filterwarnings(\"ignore\", category=UserWarning) "
      ],
      "metadata": {
        "id": "7KeRMmcqpGd4"
      },
      "execution_count": 2,
      "outputs": []
    },
    {
      "cell_type": "code",
      "source": [
        "#pip install catboost # Google delete "
      ],
      "metadata": {
        "id": "XOz8urvMVK9x"
      },
      "execution_count": 1,
      "outputs": []
    },
    {
      "cell_type": "code",
      "execution_count": 29,
      "metadata": {
        "id": "6XWfoEd_rCcb"
      },
      "outputs": [],
      "source": [
        "# loading necessary libraries\n",
        "import pandas as pd\n",
        "import numpy as np\n",
        "import seaborn as sns\n",
        "import matplotlib.pyplot as plt\n",
        "from matplotlib import pyplot\n",
        "from sklearn.model_selection import cross_val_predict\n",
        "from sklearn.metrics import confusion_matrix, classification_report, f1_score, precision_score, recall_score, roc_auc_score, roc_curve\n",
        "from sklearn.linear_model import LogisticRegression  \n",
        "from sklearn.neighbors import KNeighborsClassifier  \n",
        "from sklearn.svm import SVC\n",
        "from catboost import CatBoostClassifier\n",
        "from sklearn.ensemble import GradientBoostingClassifier\n",
        "from sklearn.tree import DecisionTreeClassifier \n",
        "from sklearn.ensemble import RandomForestClassifier\n",
        "from sklearn.ensemble import AdaBoostClassifier\n",
        "from lightgbm import LGBMClassifier\n",
        "from sklearn.model_selection import train_test_split\n",
        "from sklearn import preprocessing\n",
        "from sklearn.metrics import accuracy_score,recall_score\n",
        "from xgboost import XGBClassifier\n",
        "from sklearn.model_selection import KFold\n",
        "from sklearn.model_selection import cross_val_score, GridSearchCV"
      ]
    },
    {
      "cell_type": "code",
      "source": [
        "# Data loading and initial checks\n",
        "filepath = '/content/drive/MyDrive/Python/IBM Machine Learning/Classification/Assignment/Customertravel.csv'\n",
        "data = pd.read_csv(filepath, sep=',')"
      ],
      "metadata": {
        "id": "o53DZMOstTkP"
      },
      "execution_count": 5,
      "outputs": []
    },
    {
      "cell_type": "markdown",
      "source": [
        "First I will check the dimension and types of the data"
      ],
      "metadata": {
        "id": "eEL558QCvuS1"
      }
    },
    {
      "cell_type": "code",
      "source": [
        "data.shape"
      ],
      "metadata": {
        "colab": {
          "base_uri": "https://localhost:8080/"
        },
        "id": "HbkFaNKZv1LG",
        "outputId": "69f12a09-9fc1-4937-eddf-08be2c5043a4"
      },
      "execution_count": 6,
      "outputs": [
        {
          "output_type": "execute_result",
          "data": {
            "text/plain": [
              "(954, 7)"
            ]
          },
          "metadata": {},
          "execution_count": 6
        }
      ]
    },
    {
      "cell_type": "code",
      "source": [
        "data.dtypes"
      ],
      "metadata": {
        "colab": {
          "base_uri": "https://localhost:8080/"
        },
        "id": "WEA3eEkpv38H",
        "outputId": "bafc2f30-7332-40ac-a5f0-c358fb4825ff"
      },
      "execution_count": 7,
      "outputs": [
        {
          "output_type": "execute_result",
          "data": {
            "text/plain": [
              "Age                            int64\n",
              "FrequentFlyer                 object\n",
              "AnnualIncomeClass             object\n",
              "ServicesOpted                  int64\n",
              "AccountSyncedToSocialMedia    object\n",
              "BookedHotelOrNot              object\n",
              "Target                         int64\n",
              "dtype: object"
            ]
          },
          "metadata": {},
          "execution_count": 7
        }
      ]
    },
    {
      "cell_type": "markdown",
      "source": [
        "Data has 7 variables, four of them are objects and our target variable is __Target__, which points out the churn status of the customer. Here is the first rows of the variables. "
      ],
      "metadata": {
        "id": "N9e-Pwi1wV9k"
      }
    },
    {
      "cell_type": "code",
      "source": [
        "data.head().T"
      ],
      "metadata": {
        "colab": {
          "base_uri": "https://localhost:8080/",
          "height": 265
        },
        "id": "-WJTtgTWwB4L",
        "outputId": "e09fb40e-5071-425a-b9a4-2d2f1f7d39bf"
      },
      "execution_count": 8,
      "outputs": [
        {
          "output_type": "execute_result",
          "data": {
            "text/html": [
              "<div>\n",
              "<style scoped>\n",
              "    .dataframe tbody tr th:only-of-type {\n",
              "        vertical-align: middle;\n",
              "    }\n",
              "\n",
              "    .dataframe tbody tr th {\n",
              "        vertical-align: top;\n",
              "    }\n",
              "\n",
              "    .dataframe thead th {\n",
              "        text-align: right;\n",
              "    }\n",
              "</style>\n",
              "<table border=\"1\" class=\"dataframe\">\n",
              "  <thead>\n",
              "    <tr style=\"text-align: right;\">\n",
              "      <th></th>\n",
              "      <th>0</th>\n",
              "      <th>1</th>\n",
              "      <th>2</th>\n",
              "      <th>3</th>\n",
              "      <th>4</th>\n",
              "    </tr>\n",
              "  </thead>\n",
              "  <tbody>\n",
              "    <tr>\n",
              "      <th>Age</th>\n",
              "      <td>34</td>\n",
              "      <td>34</td>\n",
              "      <td>37</td>\n",
              "      <td>30</td>\n",
              "      <td>30</td>\n",
              "    </tr>\n",
              "    <tr>\n",
              "      <th>FrequentFlyer</th>\n",
              "      <td>No</td>\n",
              "      <td>Yes</td>\n",
              "      <td>No</td>\n",
              "      <td>No</td>\n",
              "      <td>No</td>\n",
              "    </tr>\n",
              "    <tr>\n",
              "      <th>AnnualIncomeClass</th>\n",
              "      <td>Middle Income</td>\n",
              "      <td>Low Income</td>\n",
              "      <td>Middle Income</td>\n",
              "      <td>Middle Income</td>\n",
              "      <td>Low Income</td>\n",
              "    </tr>\n",
              "    <tr>\n",
              "      <th>ServicesOpted</th>\n",
              "      <td>6</td>\n",
              "      <td>5</td>\n",
              "      <td>3</td>\n",
              "      <td>2</td>\n",
              "      <td>1</td>\n",
              "    </tr>\n",
              "    <tr>\n",
              "      <th>AccountSyncedToSocialMedia</th>\n",
              "      <td>No</td>\n",
              "      <td>Yes</td>\n",
              "      <td>Yes</td>\n",
              "      <td>No</td>\n",
              "      <td>No</td>\n",
              "    </tr>\n",
              "    <tr>\n",
              "      <th>BookedHotelOrNot</th>\n",
              "      <td>Yes</td>\n",
              "      <td>No</td>\n",
              "      <td>No</td>\n",
              "      <td>No</td>\n",
              "      <td>No</td>\n",
              "    </tr>\n",
              "    <tr>\n",
              "      <th>Target</th>\n",
              "      <td>0</td>\n",
              "      <td>1</td>\n",
              "      <td>0</td>\n",
              "      <td>0</td>\n",
              "      <td>0</td>\n",
              "    </tr>\n",
              "  </tbody>\n",
              "</table>\n",
              "</div>"
            ],
            "text/plain": [
              "                                        0  ...           4\n",
              "Age                                    34  ...          30\n",
              "FrequentFlyer                          No  ...          No\n",
              "AnnualIncomeClass           Middle Income  ...  Low Income\n",
              "ServicesOpted                           6  ...           1\n",
              "AccountSyncedToSocialMedia             No  ...          No\n",
              "BookedHotelOrNot                      Yes  ...          No\n",
              "Target                                  0  ...           0\n",
              "\n",
              "[7 rows x 5 columns]"
            ]
          },
          "metadata": {},
          "execution_count": 8
        }
      ]
    },
    {
      "cell_type": "code",
      "source": [
        "data.describe()"
      ],
      "metadata": {
        "colab": {
          "base_uri": "https://localhost:8080/",
          "height": 295
        },
        "id": "YxubSgTpzAZ4",
        "outputId": "e3c203f9-308d-4fdc-89f4-b99b07b7f74f"
      },
      "execution_count": 9,
      "outputs": [
        {
          "output_type": "execute_result",
          "data": {
            "text/html": [
              "<div>\n",
              "<style scoped>\n",
              "    .dataframe tbody tr th:only-of-type {\n",
              "        vertical-align: middle;\n",
              "    }\n",
              "\n",
              "    .dataframe tbody tr th {\n",
              "        vertical-align: top;\n",
              "    }\n",
              "\n",
              "    .dataframe thead th {\n",
              "        text-align: right;\n",
              "    }\n",
              "</style>\n",
              "<table border=\"1\" class=\"dataframe\">\n",
              "  <thead>\n",
              "    <tr style=\"text-align: right;\">\n",
              "      <th></th>\n",
              "      <th>Age</th>\n",
              "      <th>ServicesOpted</th>\n",
              "      <th>Target</th>\n",
              "    </tr>\n",
              "  </thead>\n",
              "  <tbody>\n",
              "    <tr>\n",
              "      <th>count</th>\n",
              "      <td>954.000000</td>\n",
              "      <td>954.000000</td>\n",
              "      <td>954.000000</td>\n",
              "    </tr>\n",
              "    <tr>\n",
              "      <th>mean</th>\n",
              "      <td>32.109015</td>\n",
              "      <td>2.437107</td>\n",
              "      <td>0.234801</td>\n",
              "    </tr>\n",
              "    <tr>\n",
              "      <th>std</th>\n",
              "      <td>3.337388</td>\n",
              "      <td>1.606233</td>\n",
              "      <td>0.424097</td>\n",
              "    </tr>\n",
              "    <tr>\n",
              "      <th>min</th>\n",
              "      <td>27.000000</td>\n",
              "      <td>1.000000</td>\n",
              "      <td>0.000000</td>\n",
              "    </tr>\n",
              "    <tr>\n",
              "      <th>25%</th>\n",
              "      <td>30.000000</td>\n",
              "      <td>1.000000</td>\n",
              "      <td>0.000000</td>\n",
              "    </tr>\n",
              "    <tr>\n",
              "      <th>50%</th>\n",
              "      <td>31.000000</td>\n",
              "      <td>2.000000</td>\n",
              "      <td>0.000000</td>\n",
              "    </tr>\n",
              "    <tr>\n",
              "      <th>75%</th>\n",
              "      <td>35.000000</td>\n",
              "      <td>4.000000</td>\n",
              "      <td>0.000000</td>\n",
              "    </tr>\n",
              "    <tr>\n",
              "      <th>max</th>\n",
              "      <td>38.000000</td>\n",
              "      <td>6.000000</td>\n",
              "      <td>1.000000</td>\n",
              "    </tr>\n",
              "  </tbody>\n",
              "</table>\n",
              "</div>"
            ],
            "text/plain": [
              "              Age  ServicesOpted      Target\n",
              "count  954.000000     954.000000  954.000000\n",
              "mean    32.109015       2.437107    0.234801\n",
              "std      3.337388       1.606233    0.424097\n",
              "min     27.000000       1.000000    0.000000\n",
              "25%     30.000000       1.000000    0.000000\n",
              "50%     31.000000       2.000000    0.000000\n",
              "75%     35.000000       4.000000    0.000000\n",
              "max     38.000000       6.000000    1.000000"
            ]
          },
          "metadata": {},
          "execution_count": 9
        }
      ]
    },
    {
      "cell_type": "markdown",
      "source": [
        "Variable types seems to be in right format.  \n",
        " __Missing values:__ It is very good that the data has no missing variable, which is very unusual in normal situation. "
      ],
      "metadata": {
        "id": "sR4oboBhx-xW"
      }
    },
    {
      "cell_type": "markdown",
      "source": [
        "# EDA \n",
        "First, we can start with the target variable and we need to check whether it is a balanced variable. Results show that it is not a balanced output, the ratio is 23% - 77%, so we can also test different resampling methods to balance the distribution of our target variable. Since the sample size is small, it is a better strategy to implement upsampling. We can also compare how the results vary in different resampling strategy. "
      ],
      "metadata": {
        "id": "TJ50meW9ywAf"
      }
    },
    {
      "cell_type": "code",
      "source": [
        "Target = 'Target'\n",
        "data[Target].value_counts(normalize = 'True')"
      ],
      "metadata": {
        "colab": {
          "base_uri": "https://localhost:8080/"
        },
        "id": "5PgAnn5Vw637",
        "outputId": "9231c1ef-a92b-4b01-fa47-653a19a44448"
      },
      "execution_count": 10,
      "outputs": [
        {
          "output_type": "execute_result",
          "data": {
            "text/plain": [
              "0    0.765199\n",
              "1    0.234801\n",
              "Name: Target, dtype: float64"
            ]
          },
          "metadata": {},
          "execution_count": 10
        }
      ]
    },
    {
      "cell_type": "markdown",
      "source": [
        "### Dividing variables in different categories. \n",
        "\n",
        "I find easier to analyze data when I divided them into categories. I calculate how many unique values of features have and then assign them to subcategories.  Binary variables need to be only two unique variables. I consider variable categoric if it has more than 2 and less than 6 unique values. This is not a golden rule of course, it may change depending on the dataset. "
      ],
      "metadata": {
        "id": "GQPXAdyA0gPs"
      }
    },
    {
      "cell_type": "code",
      "source": [
        "data_uniques = pd.DataFrame([[i, len(data[i].unique())] for i in data.columns], columns=['Variable', 'Unique Values']).set_index('Variable')\n",
        "data_uniques"
      ],
      "metadata": {
        "colab": {
          "base_uri": "https://localhost:8080/",
          "height": 295
        },
        "id": "-imFbapczWIa",
        "outputId": "4a84d000-64d3-4e6a-87bd-90daf601e6db"
      },
      "execution_count": 11,
      "outputs": [
        {
          "output_type": "execute_result",
          "data": {
            "text/html": [
              "<div>\n",
              "<style scoped>\n",
              "    .dataframe tbody tr th:only-of-type {\n",
              "        vertical-align: middle;\n",
              "    }\n",
              "\n",
              "    .dataframe tbody tr th {\n",
              "        vertical-align: top;\n",
              "    }\n",
              "\n",
              "    .dataframe thead th {\n",
              "        text-align: right;\n",
              "    }\n",
              "</style>\n",
              "<table border=\"1\" class=\"dataframe\">\n",
              "  <thead>\n",
              "    <tr style=\"text-align: right;\">\n",
              "      <th></th>\n",
              "      <th>Unique Values</th>\n",
              "    </tr>\n",
              "    <tr>\n",
              "      <th>Variable</th>\n",
              "      <th></th>\n",
              "    </tr>\n",
              "  </thead>\n",
              "  <tbody>\n",
              "    <tr>\n",
              "      <th>Age</th>\n",
              "      <td>11</td>\n",
              "    </tr>\n",
              "    <tr>\n",
              "      <th>FrequentFlyer</th>\n",
              "      <td>3</td>\n",
              "    </tr>\n",
              "    <tr>\n",
              "      <th>AnnualIncomeClass</th>\n",
              "      <td>3</td>\n",
              "    </tr>\n",
              "    <tr>\n",
              "      <th>ServicesOpted</th>\n",
              "      <td>6</td>\n",
              "    </tr>\n",
              "    <tr>\n",
              "      <th>AccountSyncedToSocialMedia</th>\n",
              "      <td>2</td>\n",
              "    </tr>\n",
              "    <tr>\n",
              "      <th>BookedHotelOrNot</th>\n",
              "      <td>2</td>\n",
              "    </tr>\n",
              "    <tr>\n",
              "      <th>Target</th>\n",
              "      <td>2</td>\n",
              "    </tr>\n",
              "  </tbody>\n",
              "</table>\n",
              "</div>"
            ],
            "text/plain": [
              "                            Unique Values\n",
              "Variable                                 \n",
              "Age                                    11\n",
              "FrequentFlyer                           3\n",
              "AnnualIncomeClass                       3\n",
              "ServicesOpted                           6\n",
              "AccountSyncedToSocialMedia              2\n",
              "BookedHotelOrNot                        2\n",
              "Target                                  2"
            ]
          },
          "metadata": {},
          "execution_count": 11
        }
      ]
    },
    {
      "cell_type": "code",
      "source": [
        "binary_variables = list(data_uniques[data_uniques['Unique Values'] == 2].index) \n",
        "binary_variables\n"
      ],
      "metadata": {
        "colab": {
          "base_uri": "https://localhost:8080/"
        },
        "id": "4JXqajja04b5",
        "outputId": "15880bac-c57b-4dea-eaae-1b455c3d0cca"
      },
      "execution_count": 12,
      "outputs": [
        {
          "output_type": "execute_result",
          "data": {
            "text/plain": [
              "['AccountSyncedToSocialMedia', 'BookedHotelOrNot', 'Target']"
            ]
          },
          "metadata": {},
          "execution_count": 12
        }
      ]
    },
    {
      "cell_type": "markdown",
      "source": [
        "Two features, 1- Account has a social media, 2- Booked Hotel are binary variables.  "
      ],
      "metadata": {
        "id": "uv0keCgM258O"
      }
    },
    {
      "cell_type": "code",
      "source": [
        "# Categorical variables\n",
        "categorical_variables = list(data_uniques[(6 >= data_uniques['Unique Values']) & (data_uniques['Unique Values'] > 2)].index)\n",
        "categorical_variables"
      ],
      "metadata": {
        "colab": {
          "base_uri": "https://localhost:8080/"
        },
        "id": "k8Y7irfJ20UE",
        "outputId": "8ae27979-7d46-4809-dfb0-25d249bd11e6"
      },
      "execution_count": 13,
      "outputs": [
        {
          "output_type": "execute_result",
          "data": {
            "text/plain": [
              "['FrequentFlyer', 'AnnualIncomeClass', 'ServicesOpted']"
            ]
          },
          "metadata": {},
          "execution_count": 13
        }
      ]
    },
    {
      "cell_type": "code",
      "source": [
        "# numeric variables\n",
        "numeric_variables = list(set(data.columns) - set(categorical_variables) - set(binary_variables))\n",
        "numeric_variables"
      ],
      "metadata": {
        "colab": {
          "base_uri": "https://localhost:8080/"
        },
        "id": "0sO4RfiFgEXt",
        "outputId": "c4947132-ca00-4863-d7fb-9421851d9abe"
      },
      "execution_count": 14,
      "outputs": [
        {
          "output_type": "execute_result",
          "data": {
            "text/plain": [
              "['Age']"
            ]
          },
          "metadata": {},
          "execution_count": 14
        }
      ]
    },
    {
      "cell_type": "markdown",
      "source": [
        "# EDA Graphs\n",
        "\n",
        "First, I will check their distribution and later I will compare the target variable distibution in dependent variables. *italicized text*"
      ],
      "metadata": {
        "id": "XCEnGf7_qwRZ"
      }
    },
    {
      "cell_type": "code",
      "source": [
        "def category(variable):\n",
        "    print(data[variable].value_counts())\n",
        "    \n",
        "    sns.countplot(data[variable])\n",
        "    plt.show()"
      ],
      "metadata": {
        "id": "rPBZn14Hq0V3"
      },
      "execution_count": 110,
      "outputs": []
    },
    {
      "cell_type": "code",
      "source": [
        "for i in categorical_variables:\n",
        "    category(i)"
      ],
      "metadata": {
        "colab": {
          "base_uri": "https://localhost:8080/",
          "height": 1000
        },
        "id": "vYjt-EMArFLJ",
        "outputId": "595a9404-6768-4370-eb08-15f64ca60c2b"
      },
      "execution_count": 111,
      "outputs": [
        {
          "output_type": "stream",
          "name": "stdout",
          "text": [
            "No           608\n",
            "Yes          286\n",
            "No Record     60\n",
            "Name: FrequentFlyer, dtype: int64\n"
          ]
        },
        {
          "output_type": "display_data",
          "data": {
            "image/png": "[encoded data removed]",
            "text/plain": [
              "<Figure size 432x288 with 1 Axes>"
            ]
          },
          "metadata": {
            "needs_background": "light"
          }
        },
        {
          "output_type": "stream",
          "name": "stdout",
          "text": [
            "Middle Income    409\n",
            "Low Income       386\n",
            "High Income      159\n",
            "Name: AnnualIncomeClass, dtype: int64\n"
          ]
        },
        {
          "output_type": "display_data",
          "data": {
            "image/png": "[encoded data removed]",
            "text/plain": [
              "<Figure size 432x288 with 1 Axes>"
            ]
          },
          "metadata": {
            "needs_background": "light"
          }
        },
        {
          "output_type": "stream",
          "name": "stdout",
          "text": [
            "1    404\n",
            "2    176\n",
            "3    124\n",
            "4    117\n",
            "5     69\n",
            "6     64\n",
            "Name: ServicesOpted, dtype: int64\n"
          ]
        },
        {
          "output_type": "display_data",
          "data": {
            "image/png": "[encoded data removed]",
            "text/plain": [
              "<Figure size 432x288 with 1 Axes>"
            ]
          },
          "metadata": {
            "needs_background": "light"
          }
        }
      ]
    },
    {
      "cell_type": "markdown",
      "source": [
        "- Most of the company customers are middle class and followed by low income groups.\n",
        "- A liner decreas in service opted category\n",
        "- Majority of the cusmoter in no frequent flyer group"
      ],
      "metadata": {
        "id": "5aOHVDnOCyPZ"
      }
    },
    {
      "cell_type": "code",
      "source": [
        "for i in binary_variables:\n",
        "    category(i)"
      ],
      "metadata": {
        "colab": {
          "base_uri": "https://localhost:8080/",
          "height": 958
        },
        "id": "-ICXJOUWraiS",
        "outputId": "6e957c06-fdc7-49a1-c72b-4fa0ffbfe7ba"
      },
      "execution_count": 112,
      "outputs": [
        {
          "output_type": "stream",
          "name": "stdout",
          "text": [
            "No     594\n",
            "Yes    360\n",
            "Name: AccountSyncedToSocialMedia, dtype: int64\n"
          ]
        },
        {
          "output_type": "display_data",
          "data": {
            "image/png": "[encoded data removed]",
            "text/plain": [
              "<Figure size 432x288 with 1 Axes>"
            ]
          },
          "metadata": {
            "needs_background": "light"
          }
        },
        {
          "output_type": "stream",
          "name": "stdout",
          "text": [
            "No     576\n",
            "Yes    378\n",
            "Name: BookedHotelOrNot, dtype: int64\n"
          ]
        },
        {
          "output_type": "display_data",
          "data": {
            "image/png": "[encoded data removed]",
            "text/plain": [
              "<Figure size 432x288 with 1 Axes>"
            ]
          },
          "metadata": {
            "needs_background": "light"
          }
        },
        {
          "output_type": "stream",
          "name": "stdout",
          "text": [
            "0    730\n",
            "1    224\n",
            "Name: Target, dtype: int64\n"
          ]
        },
        {
          "output_type": "display_data",
          "data": {
            "image/png": "[encoded data removed]",
            "text/plain": [
              "<Figure size 432x288 with 1 Axes>"
            ]
          },
          "metadata": {
            "needs_background": "light"
          }
        }
      ]
    },
    {
      "cell_type": "markdown",
      "source": [
        "- Most the customers have no social media accounts\n",
        "- Most of the customer have no hotel reservation \n",
        "- As mentioned above, around 23% of the customers churn"
      ],
      "metadata": {
        "id": "prRjuyIaDZaI"
      }
    },
    {
      "cell_type": "code",
      "source": [
        "def numeric(variable):\n",
        "    \n",
        "    plt.hist(data[variable], bins = 20, color = \"blue\")\n",
        "    plt.xlabel(variable)\n",
        "    plt.ylabel(\"Frequency\")\n",
        "    plt.title(\"{} variable distribution\".format(variable))\n",
        "    plt.show()"
      ],
      "metadata": {
        "id": "kqcnCA3Or6lC"
      },
      "execution_count": 113,
      "outputs": []
    },
    {
      "cell_type": "code",
      "source": [
        "for i in numeric_variables:\n",
        "    numeric(i)"
      ],
      "metadata": {
        "colab": {
          "base_uri": "https://localhost:8080/",
          "height": 295
        },
        "id": "7SOhJ1d-r81D",
        "outputId": "7dd2818a-55c9-4fc3-a8f2-6de4c79dc277"
      },
      "execution_count": 114,
      "outputs": [
        {
          "output_type": "display_data",
          "data": {
            "image/png": "[encoded data removed]",
            "text/plain": [
              "<Figure size 432x288 with 1 Axes>"
            ]
          },
          "metadata": {
            "needs_background": "light"
          }
        }
      ]
    },
    {
      "cell_type": "markdown",
      "source": [
        "- Company serves to spesific age groups, customers age range frm 25 to 40. "
      ],
      "metadata": {
        "id": "jSrMOX-zDr_y"
      }
    },
    {
      "cell_type": "markdown",
      "source": [
        "### Target variable vs categoric and binary variables"
      ],
      "metadata": {
        "id": "bYRWhYQ4seJT"
      }
    },
    {
      "cell_type": "code",
      "source": [
        "def target_vs_categoric(variable):\n",
        "    \n",
        "    print(\"{} effect of variable on customer churn : \\n\".format(variable))\n",
        "    print(data.groupby(variable)[Target].mean())\n",
        "    \n",
        "    sns.countplot(y = variable, hue = Target , data = data)\n",
        "    plt.show()"
      ],
      "metadata": {
        "id": "m-w4zin6sdu-"
      },
      "execution_count": 121,
      "outputs": []
    },
    {
      "cell_type": "code",
      "source": [
        "for i in categorical_variables:\n",
        "    target_vs_categoric(i)"
      ],
      "metadata": {
        "colab": {
          "base_uri": "https://localhost:8080/",
          "height": 1000
        },
        "id": "zCveK_n6tALi",
        "outputId": "0731ffb6-30cb-42ef-a2e0-130d7e96837f"
      },
      "execution_count": 122,
      "outputs": [
        {
          "output_type": "stream",
          "name": "stdout",
          "text": [
            "FrequentFlyer effect of variable on customer churn : \n",
            "\n",
            "FrequentFlyer\n",
            "No           0.113487\n",
            "No Record    0.133333\n",
            "Yes          0.513986\n",
            "Name: Target, dtype: float64\n"
          ]
        },
        {
          "output_type": "display_data",
          "data": {
            "image/png": "[encoded data removed]",
            "text/plain": [
              "<Figure size 432x288 with 1 Axes>"
            ]
          },
          "metadata": {
            "needs_background": "light"
          }
        },
        {
          "output_type": "stream",
          "name": "stdout",
          "text": [
            "AnnualIncomeClass effect of variable on customer churn : \n",
            "\n",
            "AnnualIncomeClass\n",
            "High Income      0.578616\n",
            "Low Income       0.269430\n",
            "Middle Income    0.068460\n",
            "Name: Target, dtype: float64\n"
          ]
        },
        {
          "output_type": "display_data",
          "data": {
            "image/png": "[encoded data removed]",
            "text/plain": [
              "<Figure size 432x288 with 1 Axes>"
            ]
          },
          "metadata": {
            "needs_background": "light"
          }
        },
        {
          "output_type": "stream",
          "name": "stdout",
          "text": [
            "ServicesOpted effect of variable on customer churn : \n",
            "\n",
            "ServicesOpted\n",
            "1    0.230198\n",
            "2    0.295455\n",
            "3    0.080645\n",
            "4    0.188034\n",
            "5    0.376812\n",
            "6    0.328125\n",
            "Name: Target, dtype: float64\n"
          ]
        },
        {
          "output_type": "display_data",
          "data": {
            "image/png": "[encoded data removed]",
            "text/plain": [
              "<Figure size 432x288 with 1 Axes>"
            ]
          },
          "metadata": {
            "needs_background": "light"
          }
        }
      ]
    },
    {
      "cell_type": "markdown",
      "source": [
        "## Summary of categorical variables\n",
        "- Having a freqent flyer has more customer churn rate compared to other groups\n",
        "- The company loses most of the customers from the high income group, following by the middle income group. \n",
        "- Service opted results show that groups belonging to 5 and 6 have more churn rate, even half of the customers in these groups churn.  "
      ],
      "metadata": {
        "id": "8h-pUjPHIvgs"
      }
    },
    {
      "cell_type": "code",
      "source": [
        "for i in binary_variables:\n",
        "    target_vs_categoric(i)"
      ],
      "metadata": {
        "colab": {
          "base_uri": "https://localhost:8080/",
          "height": 1000
        },
        "id": "k0pnycoBt07M",
        "outputId": "85a5d584-6164-4ca5-b089-3713cbc688d8"
      },
      "execution_count": 123,
      "outputs": [
        {
          "output_type": "stream",
          "name": "stdout",
          "text": [
            "AccountSyncedToSocialMedia effect of variable on customer churn : \n",
            "\n",
            "AccountSyncedToSocialMedia\n",
            "No     0.210438\n",
            "Yes    0.275000\n",
            "Name: Target, dtype: float64\n"
          ]
        },
        {
          "output_type": "display_data",
          "data": {
            "image/png": "[encoded data removed]",
            "text/plain": [
              "<Figure size 432x288 with 1 Axes>"
            ]
          },
          "metadata": {
            "needs_background": "light"
          }
        },
        {
          "output_type": "stream",
          "name": "stdout",
          "text": [
            "BookedHotelOrNot effect of variable on customer churn : \n",
            "\n",
            "BookedHotelOrNot\n",
            "No     0.305556\n",
            "Yes    0.126984\n",
            "Name: Target, dtype: float64\n"
          ]
        },
        {
          "output_type": "display_data",
          "data": {
            "image/png": "[encoded data removed]",
            "text/plain": [
              "<Figure size 432x288 with 1 Axes>"
            ]
          },
          "metadata": {
            "needs_background": "light"
          }
        },
        {
          "output_type": "stream",
          "name": "stdout",
          "text": [
            "Target effect of variable on customer churn : \n",
            "\n",
            "Target\n",
            "0    0\n",
            "1    1\n",
            "Name: Target, dtype: int64\n"
          ]
        },
        {
          "output_type": "display_data",
          "data": {
            "image/png": "[encoded data removed]",
            "text/plain": [
              "<Figure size 432x288 with 1 Axes>"
            ]
          },
          "metadata": {
            "needs_background": "light"
          }
        }
      ]
    },
    {
      "cell_type": "markdown",
      "source": [
        "### Summary of Binary variables\n",
        "\n",
        "- Customers who have a social media account have a higher rates of churn.\n",
        "- Customers who do not book a hotel has a higher rates of churn."
      ],
      "metadata": {
        "id": "aHrcBYbaLCK6"
      }
    },
    {
      "cell_type": "code",
      "source": [
        "def outlier_show(variable):\n",
        "    \n",
        "    sns.boxplot(data[variable])\n",
        "    plt.show()"
      ],
      "metadata": {
        "id": "f0VgFWPDuIbD"
      },
      "execution_count": 124,
      "outputs": []
    },
    {
      "cell_type": "code",
      "source": [
        "for i in numeric_variables:\n",
        "    outlier_show(i)"
      ],
      "metadata": {
        "colab": {
          "base_uri": "https://localhost:8080/",
          "height": 279
        },
        "id": "gR_iZrXQuNXq",
        "outputId": "339a0a98-0e24-415a-c23a-75224992c0e8"
      },
      "execution_count": 125,
      "outputs": [
        {
          "output_type": "display_data",
          "data": {
            "image/png": "[encoded data removed]",
            "text/plain": [
              "<Figure size 432x288 with 1 Axes>"
            ]
          },
          "metadata": {
            "needs_background": "light"
          }
        }
      ]
    },
    {
      "cell_type": "markdown",
      "source": [
        "### detecting outliers\n",
        "\n",
        "We have actually no outliers seen in age boxplot above but for the different senario, you can also use these codes to detect outliers and remove from the dataset. "
      ],
      "metadata": {
        "id": "Y8Ee7SitSSlq"
      }
    },
    {
      "cell_type": "code",
      "source": [
        " def outlier(df, variable_list):\n",
        "    from collections import Counter\n",
        "    outlier_indexes = []\n",
        "    \n",
        "    for i in variable_list:\n",
        "        \n",
        "        Q1 = df[i].quantile(0.25)\n",
        "        Q3 = df[i].quantile(0.75)\n",
        "\n",
        "\n",
        "        IQR = Q3 - Q1\n",
        "\n",
        "        lower_bound = Q1 - 1.5*IQR\n",
        "        upper_bound = Q3 + 1.5*IQR\n",
        "\n",
        "        total_filter = ((df[i] < lower_bound) | (df[i] > upper_bound))\n",
        "\n",
        "        outlier_observation = df[i][total_filter]\n",
        "        outlier_index = outlier_observation.index\n",
        "        \n",
        "        outlier_indexes.extend(outlier_index)\n",
        "        \n",
        "    outlier_indexes = Counter(outlier_indexes)\n",
        "    \n",
        "    common_index = [i for i, v in outlier_indexes.items() if v > 0]\n",
        "    \n",
        "    return common_index"
      ],
      "metadata": {
        "id": "cdQt9fFoSXEi"
      },
      "execution_count": 126,
      "outputs": []
    },
    {
      "cell_type": "code",
      "source": [
        "outlier_rows = outlier(data, numeric_variables)"
      ],
      "metadata": {
        "id": "K9TinWLfaYnA"
      },
      "execution_count": 127,
      "outputs": []
    },
    {
      "cell_type": "code",
      "source": [
        "data.loc[outlier_rows]"
      ],
      "metadata": {
        "colab": {
          "base_uri": "https://localhost:8080/",
          "height": 49
        },
        "id": "R02qinMDamQt",
        "outputId": "5958910a-8505-4a95-e8d3-9357dd8e611c"
      },
      "execution_count": 128,
      "outputs": [
        {
          "output_type": "execute_result",
          "data": {
            "text/html": [
              "<div>\n",
              "<style scoped>\n",
              "    .dataframe tbody tr th:only-of-type {\n",
              "        vertical-align: middle;\n",
              "    }\n",
              "\n",
              "    .dataframe tbody tr th {\n",
              "        vertical-align: top;\n",
              "    }\n",
              "\n",
              "    .dataframe thead th {\n",
              "        text-align: right;\n",
              "    }\n",
              "</style>\n",
              "<table border=\"1\" class=\"dataframe\">\n",
              "  <thead>\n",
              "    <tr style=\"text-align: right;\">\n",
              "      <th></th>\n",
              "      <th>Age</th>\n",
              "      <th>FrequentFlyer</th>\n",
              "      <th>AnnualIncomeClass</th>\n",
              "      <th>ServicesOpted</th>\n",
              "      <th>AccountSyncedToSocialMedia</th>\n",
              "      <th>BookedHotelOrNot</th>\n",
              "      <th>Target</th>\n",
              "    </tr>\n",
              "  </thead>\n",
              "  <tbody>\n",
              "  </tbody>\n",
              "</table>\n",
              "</div>"
            ],
            "text/plain": [
              "Empty DataFrame\n",
              "Columns: [Age, FrequentFlyer, AnnualIncomeClass, ServicesOpted, AccountSyncedToSocialMedia, BookedHotelOrNot, Target]\n",
              "Index: []"
            ]
          },
          "metadata": {},
          "execution_count": 128
        }
      ]
    },
    {
      "cell_type": "code",
      "source": [
        "data = data.drop(outlier_rows, axis = 0).reset_index(drop = True)"
      ],
      "metadata": {
        "id": "GSs44vRcbBE1"
      },
      "execution_count": 129,
      "outputs": []
    },
    {
      "cell_type": "code",
      "source": [
        "data.shape"
      ],
      "metadata": {
        "colab": {
          "base_uri": "https://localhost:8080/"
        },
        "id": "cIGFoQFVbcbV",
        "outputId": "e17bb456-69df-4f46-fb22-629d35ccc8e1"
      },
      "execution_count": 130,
      "outputs": [
        {
          "output_type": "execute_result",
          "data": {
            "text/plain": [
              "(954, 7)"
            ]
          },
          "metadata": {},
          "execution_count": 130
        }
      ]
    },
    {
      "cell_type": "markdown",
      "source": [
        "### Correlation matrix\n",
        "There is no multicollanarity issue with our data set."
      ],
      "metadata": {
        "id": "fTXwGd_xbfv1"
      }
    },
    {
      "cell_type": "code",
      "source": [
        "fig, ax = plt.subplots(figsize=(15,10)) \n",
        "sns.heatmap(data.corr(), annot = True, linecolor = \"black\", lw = 0.5, fmt= '.2f') \n"
      ],
      "metadata": {
        "colab": {
          "base_uri": "https://localhost:8080/",
          "height": 613
        },
        "id": "qIrty4H-YvmC",
        "outputId": "f5098b46-b536-4123-a5ee-0b6904dcdb8c"
      },
      "execution_count": 131,
      "outputs": [
        {
          "output_type": "execute_result",
          "data": {
            "text/plain": [
              "<matplotlib.axes._subplots.AxesSubplot at 0x7fb54abac290>"
            ]
          },
          "metadata": {},
          "execution_count": 131
        },
        {
          "output_type": "display_data",
          "data": {
            "image/png": "[encoded data removed]",
            "text/plain": [
              "<Figure size 1080x720 with 2 Axes>"
            ]
          },
          "metadata": {
            "needs_background": "light"
          }
        }
      ]
    },
    {
      "cell_type": "markdown",
      "source": [
        "# Data Processing\n",
        "\n",
        " I converted binary and categorical features into dummy variables with pandas function. "
      ],
      "metadata": {
        "id": "481wZSovaDxr"
      }
    },
    {
      "cell_type": "code",
      "source": [
        "data = pd.get_dummies(data, columns = binary_variables[0:2], drop_first=True) # kept target variable out of the dummy processing\n",
        "data= pd.get_dummies(data, columns= categorical_variables, drop_first=True)\n",
        "data.head().T"
      ],
      "metadata": {
        "colab": {
          "base_uri": "https://localhost:8080/",
          "height": 450
        },
        "id": "nUUKaA8sZSWv",
        "outputId": "ba1e89fd-5f06-4750-9495-44c9dca7d960"
      },
      "execution_count": 15,
      "outputs": [
        {
          "output_type": "execute_result",
          "data": {
            "text/html": [
              "<div>\n",
              "<style scoped>\n",
              "    .dataframe tbody tr th:only-of-type {\n",
              "        vertical-align: middle;\n",
              "    }\n",
              "\n",
              "    .dataframe tbody tr th {\n",
              "        vertical-align: top;\n",
              "    }\n",
              "\n",
              "    .dataframe thead th {\n",
              "        text-align: right;\n",
              "    }\n",
              "</style>\n",
              "<table border=\"1\" class=\"dataframe\">\n",
              "  <thead>\n",
              "    <tr style=\"text-align: right;\">\n",
              "      <th></th>\n",
              "      <th>0</th>\n",
              "      <th>1</th>\n",
              "      <th>2</th>\n",
              "      <th>3</th>\n",
              "      <th>4</th>\n",
              "    </tr>\n",
              "  </thead>\n",
              "  <tbody>\n",
              "    <tr>\n",
              "      <th>Age</th>\n",
              "      <td>34</td>\n",
              "      <td>34</td>\n",
              "      <td>37</td>\n",
              "      <td>30</td>\n",
              "      <td>30</td>\n",
              "    </tr>\n",
              "    <tr>\n",
              "      <th>Target</th>\n",
              "      <td>0</td>\n",
              "      <td>1</td>\n",
              "      <td>0</td>\n",
              "      <td>0</td>\n",
              "      <td>0</td>\n",
              "    </tr>\n",
              "    <tr>\n",
              "      <th>AccountSyncedToSocialMedia_Yes</th>\n",
              "      <td>0</td>\n",
              "      <td>1</td>\n",
              "      <td>1</td>\n",
              "      <td>0</td>\n",
              "      <td>0</td>\n",
              "    </tr>\n",
              "    <tr>\n",
              "      <th>BookedHotelOrNot_Yes</th>\n",
              "      <td>1</td>\n",
              "      <td>0</td>\n",
              "      <td>0</td>\n",
              "      <td>0</td>\n",
              "      <td>0</td>\n",
              "    </tr>\n",
              "    <tr>\n",
              "      <th>FrequentFlyer_No Record</th>\n",
              "      <td>0</td>\n",
              "      <td>0</td>\n",
              "      <td>0</td>\n",
              "      <td>0</td>\n",
              "      <td>0</td>\n",
              "    </tr>\n",
              "    <tr>\n",
              "      <th>FrequentFlyer_Yes</th>\n",
              "      <td>0</td>\n",
              "      <td>1</td>\n",
              "      <td>0</td>\n",
              "      <td>0</td>\n",
              "      <td>0</td>\n",
              "    </tr>\n",
              "    <tr>\n",
              "      <th>AnnualIncomeClass_Low Income</th>\n",
              "      <td>0</td>\n",
              "      <td>1</td>\n",
              "      <td>0</td>\n",
              "      <td>0</td>\n",
              "      <td>1</td>\n",
              "    </tr>\n",
              "    <tr>\n",
              "      <th>AnnualIncomeClass_Middle Income</th>\n",
              "      <td>1</td>\n",
              "      <td>0</td>\n",
              "      <td>1</td>\n",
              "      <td>1</td>\n",
              "      <td>0</td>\n",
              "    </tr>\n",
              "    <tr>\n",
              "      <th>ServicesOpted_2</th>\n",
              "      <td>0</td>\n",
              "      <td>0</td>\n",
              "      <td>0</td>\n",
              "      <td>1</td>\n",
              "      <td>0</td>\n",
              "    </tr>\n",
              "    <tr>\n",
              "      <th>ServicesOpted_3</th>\n",
              "      <td>0</td>\n",
              "      <td>0</td>\n",
              "      <td>1</td>\n",
              "      <td>0</td>\n",
              "      <td>0</td>\n",
              "    </tr>\n",
              "    <tr>\n",
              "      <th>ServicesOpted_4</th>\n",
              "      <td>0</td>\n",
              "      <td>0</td>\n",
              "      <td>0</td>\n",
              "      <td>0</td>\n",
              "      <td>0</td>\n",
              "    </tr>\n",
              "    <tr>\n",
              "      <th>ServicesOpted_5</th>\n",
              "      <td>0</td>\n",
              "      <td>1</td>\n",
              "      <td>0</td>\n",
              "      <td>0</td>\n",
              "      <td>0</td>\n",
              "    </tr>\n",
              "    <tr>\n",
              "      <th>ServicesOpted_6</th>\n",
              "      <td>1</td>\n",
              "      <td>0</td>\n",
              "      <td>0</td>\n",
              "      <td>0</td>\n",
              "      <td>0</td>\n",
              "    </tr>\n",
              "  </tbody>\n",
              "</table>\n",
              "</div>"
            ],
            "text/plain": [
              "                                  0   1   2   3   4\n",
              "Age                              34  34  37  30  30\n",
              "Target                            0   1   0   0   0\n",
              "AccountSyncedToSocialMedia_Yes    0   1   1   0   0\n",
              "BookedHotelOrNot_Yes              1   0   0   0   0\n",
              "FrequentFlyer_No Record           0   0   0   0   0\n",
              "FrequentFlyer_Yes                 0   1   0   0   0\n",
              "AnnualIncomeClass_Low Income      0   1   0   0   1\n",
              "AnnualIncomeClass_Middle Income   1   0   1   1   0\n",
              "ServicesOpted_2                   0   0   0   1   0\n",
              "ServicesOpted_3                   0   0   1   0   0\n",
              "ServicesOpted_4                   0   0   0   0   0\n",
              "ServicesOpted_5                   0   1   0   0   0\n",
              "ServicesOpted_6                   1   0   0   0   0"
            ]
          },
          "metadata": {},
          "execution_count": 15
        }
      ]
    },
    {
      "cell_type": "markdown",
      "source": [
        "To make the all features in the same scale, I also scales the numeric variables. "
      ],
      "metadata": {
        "id": "olnHhryHdS2P"
      }
    },
    {
      "cell_type": "code",
      "source": [
        "from sklearn.preprocessing import MinMaxScaler \n",
        "mm = MinMaxScaler()"
      ],
      "metadata": {
        "id": "Vhgso9aMcqCG"
      },
      "execution_count": 16,
      "outputs": []
    },
    {
      "cell_type": "code",
      "source": [
        "for column in [ numeric_variables]: \n",
        "    data[column] = mm.fit_transform(data[column])"
      ],
      "metadata": {
        "id": "-kOlbEhTiHhr"
      },
      "execution_count": 17,
      "outputs": []
    },
    {
      "cell_type": "code",
      "source": [
        "round(data.describe().T, 3)"
      ],
      "metadata": {
        "colab": {
          "base_uri": "https://localhost:8080/",
          "height": 450
        },
        "id": "4lWEa_J8ihPI",
        "outputId": "63167f93-64a3-4a11-ae65-92ed6a5c4c1d"
      },
      "execution_count": 18,
      "outputs": [
        {
          "output_type": "execute_result",
          "data": {
            "text/html": [
              "<div>\n",
              "<style scoped>\n",
              "    .dataframe tbody tr th:only-of-type {\n",
              "        vertical-align: middle;\n",
              "    }\n",
              "\n",
              "    .dataframe tbody tr th {\n",
              "        vertical-align: top;\n",
              "    }\n",
              "\n",
              "    .dataframe thead th {\n",
              "        text-align: right;\n",
              "    }\n",
              "</style>\n",
              "<table border=\"1\" class=\"dataframe\">\n",
              "  <thead>\n",
              "    <tr style=\"text-align: right;\">\n",
              "      <th></th>\n",
              "      <th>count</th>\n",
              "      <th>mean</th>\n",
              "      <th>std</th>\n",
              "      <th>min</th>\n",
              "      <th>25%</th>\n",
              "      <th>50%</th>\n",
              "      <th>75%</th>\n",
              "      <th>max</th>\n",
              "    </tr>\n",
              "  </thead>\n",
              "  <tbody>\n",
              "    <tr>\n",
              "      <th>Age</th>\n",
              "      <td>954.0</td>\n",
              "      <td>0.464</td>\n",
              "      <td>0.303</td>\n",
              "      <td>0.0</td>\n",
              "      <td>0.273</td>\n",
              "      <td>0.364</td>\n",
              "      <td>0.727</td>\n",
              "      <td>1.0</td>\n",
              "    </tr>\n",
              "    <tr>\n",
              "      <th>Target</th>\n",
              "      <td>954.0</td>\n",
              "      <td>0.235</td>\n",
              "      <td>0.424</td>\n",
              "      <td>0.0</td>\n",
              "      <td>0.000</td>\n",
              "      <td>0.000</td>\n",
              "      <td>0.000</td>\n",
              "      <td>1.0</td>\n",
              "    </tr>\n",
              "    <tr>\n",
              "      <th>AccountSyncedToSocialMedia_Yes</th>\n",
              "      <td>954.0</td>\n",
              "      <td>0.377</td>\n",
              "      <td>0.485</td>\n",
              "      <td>0.0</td>\n",
              "      <td>0.000</td>\n",
              "      <td>0.000</td>\n",
              "      <td>1.000</td>\n",
              "      <td>1.0</td>\n",
              "    </tr>\n",
              "    <tr>\n",
              "      <th>BookedHotelOrNot_Yes</th>\n",
              "      <td>954.0</td>\n",
              "      <td>0.396</td>\n",
              "      <td>0.489</td>\n",
              "      <td>0.0</td>\n",
              "      <td>0.000</td>\n",
              "      <td>0.000</td>\n",
              "      <td>1.000</td>\n",
              "      <td>1.0</td>\n",
              "    </tr>\n",
              "    <tr>\n",
              "      <th>FrequentFlyer_No Record</th>\n",
              "      <td>954.0</td>\n",
              "      <td>0.063</td>\n",
              "      <td>0.243</td>\n",
              "      <td>0.0</td>\n",
              "      <td>0.000</td>\n",
              "      <td>0.000</td>\n",
              "      <td>0.000</td>\n",
              "      <td>1.0</td>\n",
              "    </tr>\n",
              "    <tr>\n",
              "      <th>FrequentFlyer_Yes</th>\n",
              "      <td>954.0</td>\n",
              "      <td>0.300</td>\n",
              "      <td>0.458</td>\n",
              "      <td>0.0</td>\n",
              "      <td>0.000</td>\n",
              "      <td>0.000</td>\n",
              "      <td>1.000</td>\n",
              "      <td>1.0</td>\n",
              "    </tr>\n",
              "    <tr>\n",
              "      <th>AnnualIncomeClass_Low Income</th>\n",
              "      <td>954.0</td>\n",
              "      <td>0.405</td>\n",
              "      <td>0.491</td>\n",
              "      <td>0.0</td>\n",
              "      <td>0.000</td>\n",
              "      <td>0.000</td>\n",
              "      <td>1.000</td>\n",
              "      <td>1.0</td>\n",
              "    </tr>\n",
              "    <tr>\n",
              "      <th>AnnualIncomeClass_Middle Income</th>\n",
              "      <td>954.0</td>\n",
              "      <td>0.429</td>\n",
              "      <td>0.495</td>\n",
              "      <td>0.0</td>\n",
              "      <td>0.000</td>\n",
              "      <td>0.000</td>\n",
              "      <td>1.000</td>\n",
              "      <td>1.0</td>\n",
              "    </tr>\n",
              "    <tr>\n",
              "      <th>ServicesOpted_2</th>\n",
              "      <td>954.0</td>\n",
              "      <td>0.184</td>\n",
              "      <td>0.388</td>\n",
              "      <td>0.0</td>\n",
              "      <td>0.000</td>\n",
              "      <td>0.000</td>\n",
              "      <td>0.000</td>\n",
              "      <td>1.0</td>\n",
              "    </tr>\n",
              "    <tr>\n",
              "      <th>ServicesOpted_3</th>\n",
              "      <td>954.0</td>\n",
              "      <td>0.130</td>\n",
              "      <td>0.336</td>\n",
              "      <td>0.0</td>\n",
              "      <td>0.000</td>\n",
              "      <td>0.000</td>\n",
              "      <td>0.000</td>\n",
              "      <td>1.0</td>\n",
              "    </tr>\n",
              "    <tr>\n",
              "      <th>ServicesOpted_4</th>\n",
              "      <td>954.0</td>\n",
              "      <td>0.123</td>\n",
              "      <td>0.328</td>\n",
              "      <td>0.0</td>\n",
              "      <td>0.000</td>\n",
              "      <td>0.000</td>\n",
              "      <td>0.000</td>\n",
              "      <td>1.0</td>\n",
              "    </tr>\n",
              "    <tr>\n",
              "      <th>ServicesOpted_5</th>\n",
              "      <td>954.0</td>\n",
              "      <td>0.072</td>\n",
              "      <td>0.259</td>\n",
              "      <td>0.0</td>\n",
              "      <td>0.000</td>\n",
              "      <td>0.000</td>\n",
              "      <td>0.000</td>\n",
              "      <td>1.0</td>\n",
              "    </tr>\n",
              "    <tr>\n",
              "      <th>ServicesOpted_6</th>\n",
              "      <td>954.0</td>\n",
              "      <td>0.067</td>\n",
              "      <td>0.250</td>\n",
              "      <td>0.0</td>\n",
              "      <td>0.000</td>\n",
              "      <td>0.000</td>\n",
              "      <td>0.000</td>\n",
              "      <td>1.0</td>\n",
              "    </tr>\n",
              "  </tbody>\n",
              "</table>\n",
              "</div>"
            ],
            "text/plain": [
              "                                 count   mean    std  ...    50%    75%  max\n",
              "Age                              954.0  0.464  0.303  ...  0.364  0.727  1.0\n",
              "Target                           954.0  0.235  0.424  ...  0.000  0.000  1.0\n",
              "AccountSyncedToSocialMedia_Yes   954.0  0.377  0.485  ...  0.000  1.000  1.0\n",
              "BookedHotelOrNot_Yes             954.0  0.396  0.489  ...  0.000  1.000  1.0\n",
              "FrequentFlyer_No Record          954.0  0.063  0.243  ...  0.000  0.000  1.0\n",
              "FrequentFlyer_Yes                954.0  0.300  0.458  ...  0.000  1.000  1.0\n",
              "AnnualIncomeClass_Low Income     954.0  0.405  0.491  ...  0.000  1.000  1.0\n",
              "AnnualIncomeClass_Middle Income  954.0  0.429  0.495  ...  0.000  1.000  1.0\n",
              "ServicesOpted_2                  954.0  0.184  0.388  ...  0.000  0.000  1.0\n",
              "ServicesOpted_3                  954.0  0.130  0.336  ...  0.000  0.000  1.0\n",
              "ServicesOpted_4                  954.0  0.123  0.328  ...  0.000  0.000  1.0\n",
              "ServicesOpted_5                  954.0  0.072  0.259  ...  0.000  0.000  1.0\n",
              "ServicesOpted_6                  954.0  0.067  0.250  ...  0.000  0.000  1.0\n",
              "\n",
              "[13 rows x 8 columns]"
            ]
          },
          "metadata": {},
          "execution_count": 18
        }
      ]
    },
    {
      "cell_type": "markdown",
      "source": [
        "### Strafication of data split\n",
        "Since our target variable is not balanced, I use stratified sampling method to protect the original distribution rate."
      ],
      "metadata": {
        "id": "LHKP-2HcFGVJ"
      }
    },
    {
      "cell_type": "code",
      "source": [
        "from sklearn.model_selection import StratifiedShuffleSplit\n",
        "\n",
        "target = 'Target'\n",
        "\n",
        "feature_cols = [x for x in data.columns if x != target]\n",
        "\n",
        "# Split the data into two parts with 1500 points in the test data\n",
        "# This creates a generator\n",
        "strat_shuff_split = StratifiedShuffleSplit(n_splits=1, test_size=0.3, random_state=42)\n",
        "\n",
        "# Get the index values from the generator\n",
        "train_idx, test_idx = next(strat_shuff_split.split(data[feature_cols], data[target]))\n",
        "\n",
        "# Create the data sets\n",
        "X_train = data.loc[train_idx, feature_cols]\n",
        "y_train = data.loc[train_idx, target]\n",
        "\n",
        "X_test = data.loc[test_idx, feature_cols]\n",
        "y_test = data.loc[test_idx, target]"
      ],
      "metadata": {
        "id": "1KksWg6YiinV"
      },
      "execution_count": 38,
      "outputs": []
    },
    {
      "cell_type": "code",
      "source": [
        "y_train.value_counts(normalize=True)"
      ],
      "metadata": {
        "colab": {
          "base_uri": "https://localhost:8080/"
        },
        "id": "xpRbjWz7jsgt",
        "outputId": "c04daf69-dd6f-4115-eaf7-ab9d7a92451c"
      },
      "execution_count": 39,
      "outputs": [
        {
          "output_type": "execute_result",
          "data": {
            "text/plain": [
              "0    0.764618\n",
              "1    0.235382\n",
              "Name: Target, dtype: float64"
            ]
          },
          "metadata": {},
          "execution_count": 39
        }
      ]
    },
    {
      "cell_type": "code",
      "source": [
        "y_test.value_counts(normalize=True)\n"
      ],
      "metadata": {
        "colab": {
          "base_uri": "https://localhost:8080/"
        },
        "id": "Sbe3-H_ojutW",
        "outputId": "91e9f938-28a9-4af0-a9c1-86d7a67a0c01"
      },
      "execution_count": 40,
      "outputs": [
        {
          "output_type": "execute_result",
          "data": {
            "text/plain": [
              "0    0.766551\n",
              "1    0.233449\n",
              "Name: Target, dtype: float64"
            ]
          },
          "metadata": {},
          "execution_count": 40
        }
      ]
    },
    {
      "cell_type": "markdown",
      "source": [
        "## Oversampling with SMOTE\n",
        "\n",
        "Keep in mind that, it needs to be done after data split. \n",
        "\n"
      ],
      "metadata": {
        "id": "fIwg1aeulCML"
      }
    },
    {
      "cell_type": "code",
      "source": [
        "# Because the Target is imbalance, i try to balance the data with SMOTE(OverSampling)\n",
        "from imblearn.over_sampling import SMOTE\n",
        "\n",
        "sm = SMOTE(random_state=46)\n",
        "X_train_res, y_train_res = sm.fit_resample(X_train, y_train)\n",
        "#X_train_res, y_train_res = sm.fit_resample(X_train, y_train)"
      ],
      "metadata": {
        "id": "mqtBbenzlJnb"
      },
      "execution_count": 25,
      "outputs": []
    },
    {
      "cell_type": "code",
      "source": [
        "print(f\"Before resample : \\n{y_train.value_counts()} \\nAfter resample : \\n{y_train_res.value_counts()}\")"
      ],
      "metadata": {
        "colab": {
          "base_uri": "https://localhost:8080/"
        },
        "id": "xpophgWOlMUz",
        "outputId": "6593aed2-cb3e-46aa-8f87-856594a44ed9"
      },
      "execution_count": 26,
      "outputs": [
        {
          "output_type": "stream",
          "name": "stdout",
          "text": [
            "Before resample : \n",
            "0    510\n",
            "1    157\n",
            "Name: Target, dtype: int64 \n",
            "After resample : \n",
            "1    510\n",
            "0    510\n",
            "Name: Target, dtype: int64\n"
          ]
        }
      ]
    },
    {
      "cell_type": "markdown",
      "source": [
        "# Model Building with Cross Validation\n",
        "\n",
        "I will use the main classification models under the hood of sklearn. I will first analyze based on original data set and then apply the same methods on new data set. "
      ],
      "metadata": {
        "id": "Us6DYYH3kzwh"
      }
    },
    {
      "cell_type": "code",
      "source": [
        "# Models for Classification with SMOTE\n",
        "models = [('LR', LogisticRegression(random_state=42)),\n",
        "          ('KNN', KNeighborsClassifier()),\n",
        "          ('CART', DecisionTreeClassifier(random_state=42)),\n",
        "          ('RF', RandomForestClassifier(random_state=42)),\n",
        "          ('SVR', SVC(gamma='auto',random_state=42)),\n",
        "          ('GB', GradientBoostingClassifier(random_state = 42)),\n",
        "          (\"LightGBM\", LGBMClassifier(random_state=42)),\n",
        "          (\"Adaboost\", AdaBoostClassifier(random_state= 42)),\n",
        "          (\"Gradient Boosting\", GradientBoostingClassifier(random_state=42))]\n"
      ],
      "metadata": {
        "id": "gpT6yXbFoZ7T"
      },
      "execution_count": 41,
      "outputs": []
    },
    {
      "cell_type": "code",
      "source": [
        "# original data\n",
        "results = []\n",
        "names = []\n",
        "for name, model in models:\n",
        "    kfold = KFold(n_splits=10, random_state=42, shuffle=True)\n",
        "    cv_results = cross_val_score(model, data[feature_cols], data[target], cv=kfold)\n",
        "    results.append(cv_results)\n",
        "    names.append(name)\n",
        "    msg = \"%s: %f (%f)\" % (name, cv_results.mean(), cv_results.std())\n",
        "    print(msg)\n",
        " "
      ],
      "metadata": {
        "colab": {
          "base_uri": "https://localhost:8080/"
        },
        "id": "CTGRQBNz65l9",
        "outputId": "b8318d7c-f596-406b-960c-da1fbc14cfd7"
      },
      "execution_count": 42,
      "outputs": [
        {
          "output_type": "stream",
          "name": "stdout",
          "text": [
            "LR: 0.832270 (0.036705)\n",
            "KNN: 0.873136 (0.032114)\n",
            "CART: 0.891974 (0.025088)\n",
            "RF: 0.884649 (0.034969)\n",
            "SVR: 0.839605 (0.024936)\n",
            "GB: 0.887752 (0.039226)\n",
            "LightGBM: 0.875197 (0.037558)\n",
            "Adaboost: 0.827061 (0.022016)\n",
            "Gradient Boosting: 0.887752 (0.039226)\n"
          ]
        }
      ]
    },
    {
      "cell_type": "code",
      "source": [
        "# oversampled data\n",
        "results = []\n",
        "names = []\n",
        "for name, model in models:\n",
        "    kfold = KFold(n_splits=10, random_state=42, shuffle=True)\n",
        "    cv_results = cross_val_score(model, X_train_res, y_train_res, cv=kfold)\n",
        "    results.append(cv_results)\n",
        "    names.append(name)\n",
        "    msg = \"%s: %f (%f)\" % (name, cv_results.mean(), cv_results.std())\n",
        "    print(msg)\n",
        " "
      ],
      "metadata": {
        "colab": {
          "base_uri": "https://localhost:8080/"
        },
        "id": "adQgTLNJm7Dt",
        "outputId": "b88432f3-367e-4288-e4a7-cc260afe2f38"
      },
      "execution_count": 31,
      "outputs": [
        {
          "output_type": "stream",
          "name": "stdout",
          "text": [
            "LR: 0.809804 (0.023692)\n",
            "KNN: 0.871569 (0.026471)\n",
            "CART: 0.891176 (0.027187)\n",
            "RF: 0.891176 (0.018315)\n",
            "SVR: 0.833333 (0.023200)\n",
            "GB: 0.915686 (0.022442)\n",
            "LightGBM: 0.903922 (0.018498)\n",
            "Adaboost: 0.863725 (0.021232)\n",
            "Gradient Boosting: 0.915686 (0.022442)\n"
          ]
        }
      ]
    },
    {
      "cell_type": "markdown",
      "source": [
        "# Model selection\n",
        "\n",
        "- __Base Model:__ Our results show that Adaboost performs better here, following by SVR and CART.\n",
        "- __SMOTE Model:__ When we resample our target variable, Random Forest performed well followed by lightGBM (slightly lower than RF) and Adaboost.  \n",
        "\n",
        "- To give an idea, I pulled the RF results here but I will tune the parameters to produce better and balanced results below."
      ],
      "metadata": {
        "id": "xVrGnNgkN8Tp"
      }
    },
    {
      "cell_type": "code",
      "source": [
        "# RF Confusion Matrix\n",
        "model_RF = RandomForestClassifier(random_state=42)\n",
        "model_RF.fit(X_train_res, y_train_res)\n"
      ],
      "metadata": {
        "colab": {
          "base_uri": "https://localhost:8080/"
        },
        "id": "nSSKTqzr_j_p",
        "outputId": "5916fe98-a86b-4bf9-82f7-91d70ae58cb5"
      },
      "execution_count": 44,
      "outputs": [
        {
          "output_type": "execute_result",
          "data": {
            "text/plain": [
              "RandomForestClassifier(random_state=42)"
            ]
          },
          "metadata": {},
          "execution_count": 44
        }
      ]
    },
    {
      "cell_type": "code",
      "source": [
        "# Classification Report \n",
        "print(classification_report(model_RF.predict(X_test), y_test))"
      ],
      "metadata": {
        "colab": {
          "base_uri": "https://localhost:8080/"
        },
        "id": "jsWfRzdMAlWE",
        "outputId": "63405259-2e13-42fa-d7a1-bbd5bb55e757"
      },
      "execution_count": 47,
      "outputs": [
        {
          "output_type": "stream",
          "name": "stdout",
          "text": [
            "              precision    recall  f1-score   support\n",
            "\n",
            "           0       0.92      0.94      0.93       216\n",
            "           1       0.79      0.75      0.77        71\n",
            "\n",
            "    accuracy                           0.89       287\n",
            "   macro avg       0.85      0.84      0.85       287\n",
            "weighted avg       0.89      0.89      0.89       287\n",
            "\n"
          ]
        }
      ]
    },
    {
      "cell_type": "code",
      "source": [
        "y_pred = model_RF.predict(X_test)\n",
        "y_true = y_test\n",
        "\n",
        "cm =confusion_matrix(y_true,y_pred)\n",
        "\n",
        "f, ax = plt.subplots(figsize = (5,5))\n",
        "sns.heatmap(cm,annot=True,linewidths=0.5,linecolor=\"red\",fmt = \".0f\",ax=ax)\n",
        "plt.xlabel(\"y_pred\")\n",
        "plt.ylabel(\"y_true\")\n",
        "plt.show()"
      ],
      "metadata": {
        "colab": {
          "base_uri": "https://localhost:8080/",
          "height": 336
        },
        "id": "8UUJM7kjej1b",
        "outputId": "a9e6108d-bdbf-4b0e-c836-e9dc29b35ba1"
      },
      "execution_count": 48,
      "outputs": [
        {
          "output_type": "display_data",
          "data": {
            "image/png": "[encoded data removed]",
            "text/plain": [
              "<Figure size 360x360 with 2 Axes>"
            ]
          },
          "metadata": {
            "needs_background": "light"
          }
        }
      ]
    },
    {
      "cell_type": "code",
      "source": [
        "# Auc Roc Curve\n",
        "def generate_auc_roc_curve(clf, X_test):\n",
        "    y_pred_proba = clf.predict_proba(X_test)[:, 1]\n",
        "    fpr, tpr, thresholds = roc_curve(y_test,  y_pred_proba)\n",
        "    auc = roc_auc_score(y_test, y_pred_proba)\n",
        "    plt.plot(fpr,tpr,label=\"AUC ROC Curve with Area Under the curve =\"+str(auc))\n",
        "    plt.legend(loc=4)\n",
        "    plt.show()\n",
        "    pass"
      ],
      "metadata": {
        "id": "LTG6s1piAs7T"
      },
      "execution_count": 49,
      "outputs": []
    },
    {
      "cell_type": "code",
      "source": [
        "generate_auc_roc_curve(model_RF, X_test)\n"
      ],
      "metadata": {
        "colab": {
          "base_uri": "https://localhost:8080/",
          "height": 265
        },
        "id": "F_GTQ9o5AxkY",
        "outputId": "56f7c381-5d87-4638-9d26-13a0b0e9c584"
      },
      "execution_count": 50,
      "outputs": [
        {
          "output_type": "display_data",
          "data": {
            "image/png": "[encoded data removed]",
            "text/plain": [
              "<Figure size 432x288 with 1 Axes>"
            ]
          },
          "metadata": {
            "needs_background": "light"
          }
        }
      ]
    },
    {
      "cell_type": "markdown",
      "source": [
        "# Tuning\n",
        "\n",
        "I will compare two models here: Light GBM and Random Forest. \n"
      ],
      "metadata": {
        "id": "-zhfF08mA_Tv"
      }
    },
    {
      "cell_type": "markdown",
      "source": [
        "## Light GBM"
      ],
      "metadata": {
        "id": "suzO0bN1UDKJ"
      }
    },
    {
      "cell_type": "code",
      "source": [
        "# LightGBM: \n",
        "lgb_model = LGBMClassifier()\n",
        "# Model Tuning\n",
        "lgbm_params = {'colsample_bytree': 0.5,\n",
        " 'learning_rate': 0.01,\n",
        " 'max_depth': 6,\n",
        " 'n_estimators': 500}\n",
        "\n",
        "lgbm_tuned = LGBMClassifier(**lgbm_params).fit(data[feature_cols], data[target])\n"
      ],
      "metadata": {
        "id": "tl0ab2lHA-ip"
      },
      "execution_count": 51,
      "outputs": []
    },
    {
      "cell_type": "code",
      "source": [
        "# Classification Report \n",
        "print(classification_report(lgbm_tuned.predict(X_test),y_test))"
      ],
      "metadata": {
        "colab": {
          "base_uri": "https://localhost:8080/"
        },
        "id": "GD944MXavUsv",
        "outputId": "d6fd45b2-654f-4d53-a9fa-5863ffba04cd"
      },
      "execution_count": 55,
      "outputs": [
        {
          "output_type": "stream",
          "name": "stdout",
          "text": [
            "              precision    recall  f1-score   support\n",
            "\n",
            "           0       0.97      0.92      0.94       232\n",
            "           1       0.72      0.87      0.79        55\n",
            "\n",
            "    accuracy                           0.91       287\n",
            "   macro avg       0.84      0.90      0.86       287\n",
            "weighted avg       0.92      0.91      0.91       287\n",
            "\n"
          ]
        }
      ]
    },
    {
      "cell_type": "code",
      "source": [
        "y_pred = lgbm_tuned.predict(X_test)\n",
        "y_true = y_test\n",
        "\n",
        "cm =confusion_matrix(y_true,y_pred)\n",
        "\n",
        "f, ax = plt.subplots(figsize = (5,5))\n",
        "sns.heatmap(cm,annot=True,linewidths=0.5,linecolor=\"red\",fmt = \".0f\",ax=ax)\n",
        "plt.xlabel(\"y_pred\")\n",
        "plt.ylabel(\"y_true\")\n",
        "plt.show()"
      ],
      "metadata": {
        "colab": {
          "base_uri": "https://localhost:8080/",
          "height": 335
        },
        "id": "QqAgdg6txeil",
        "outputId": "311f614c-ac3e-4657-e3e1-448d614be415"
      },
      "execution_count": 60,
      "outputs": [
        {
          "output_type": "display_data",
          "data": {
            "image/png": "[encoded data removed]",
            "text/plain": [
              "<Figure size 360x360 with 2 Axes>"
            ]
          },
          "metadata": {
            "needs_background": "light"
          }
        }
      ]
    },
    {
      "cell_type": "markdown",
      "source": [
        "## Random Forest "
      ],
      "metadata": {
        "id": "IXTXfNwBUkVv"
      }
    },
    {
      "cell_type": "code",
      "source": [
        "# random forest\n",
        "rf_params = {\"max_depth\": [2,5,8,10],\n",
        "            \"max_features\": [2,5,8],\n",
        "            \"n_estimators\": [10,500,1000],\n",
        "            \"min_samples_split\": [2,5,10]}\n",
        "rf_model = RandomForestClassifier()\n",
        "\n",
        "rf_cv_model = GridSearchCV(rf_model, \n",
        "                           rf_params, \n",
        "                           cv = 10, \n",
        "                           n_jobs = -1, \n",
        "                           verbose = 2) \n",
        "rf_cv_model.fit(X_train_res, y_train_res)\n",
        "print(\"The best parameters: \" + str(rf_cv_model.best_params_))\n"
      ],
      "metadata": {
        "colab": {
          "base_uri": "https://localhost:8080/"
        },
        "id": "Y-Ac1CaggbAL",
        "outputId": "d6eb3c3f-eed9-43fc-c564-ad6ce048f0fe"
      },
      "execution_count": 53,
      "outputs": [
        {
          "output_type": "stream",
          "name": "stdout",
          "text": [
            "Fitting 10 folds for each of 108 candidates, totalling 1080 fits\n",
            "The best parameters: {'max_depth': 8, 'max_features': 8, 'min_samples_split': 10, 'n_estimators': 1000}\n"
          ]
        }
      ]
    },
    {
      "cell_type": "code",
      "source": [
        "rf_tuned = RandomForestClassifier(max_depth = 8, \n",
        "                                  max_features = 8, \n",
        "                                  min_samples_split = 10,\n",
        "                                  n_estimators = 1000)\n",
        "\n",
        "rf_tuned.fit(X_train_res, y_train_res)"
      ],
      "metadata": {
        "colab": {
          "base_uri": "https://localhost:8080/"
        },
        "id": "QHyrIr4pg4Vi",
        "outputId": "bae59a3b-03a7-4d8e-8993-b5b9ab3b127a"
      },
      "execution_count": 57,
      "outputs": [
        {
          "output_type": "execute_result",
          "data": {
            "text/plain": [
              "RandomForestClassifier(max_depth=8, max_features=8, min_samples_split=10,\n",
              "                       n_estimators=1000)"
            ]
          },
          "metadata": {},
          "execution_count": 57
        }
      ]
    },
    {
      "cell_type": "code",
      "source": [
        "# Classification Report \n",
        "print(classification_report(rf_tuned.predict(X_test),y_test))"
      ],
      "metadata": {
        "colab": {
          "base_uri": "https://localhost:8080/"
        },
        "id": "5AFQrAwbQD5q",
        "outputId": "e66224c8-7b09-4386-a44e-16719a21947e"
      },
      "execution_count": 58,
      "outputs": [
        {
          "output_type": "stream",
          "name": "stdout",
          "text": [
            "              precision    recall  f1-score   support\n",
            "\n",
            "           0       0.90      0.96      0.92       206\n",
            "           1       0.87      0.72      0.78        81\n",
            "\n",
            "    accuracy                           0.89       287\n",
            "   macro avg       0.88      0.84      0.85       287\n",
            "weighted avg       0.89      0.89      0.89       287\n",
            "\n"
          ]
        }
      ]
    },
    {
      "cell_type": "code",
      "source": [
        "y_pred = rf_tuned.predict(X_test)\n",
        "y_true = y_test\n",
        "\n",
        "cm =confusion_matrix(y_true,y_pred)\n",
        "\n",
        "f, ax = plt.subplots(figsize = (5,5))\n",
        "sns.heatmap(cm,annot=True,linewidths=0.5,linecolor=\"red\",fmt = \".0f\",ax=ax)\n",
        "plt.xlabel(\"y_pred\")\n",
        "plt.ylabel(\"y_true\")\n",
        "plt.show()"
      ],
      "metadata": {
        "colab": {
          "base_uri": "https://localhost:8080/",
          "height": 335
        },
        "id": "NL21b9nihITU",
        "outputId": "d17aab79-26b5-41d5-89ab-1fc0fb02ad19"
      },
      "execution_count": 59,
      "outputs": [
        {
          "output_type": "display_data",
          "data": {
            "image/png": "[encoded data removed]",
            "text/plain": [
              "<Figure size 360x360 with 2 Axes>"
            ]
          },
          "metadata": {
            "needs_background": "light"
          }
        }
      ]
    },
    {
      "cell_type": "markdown",
      "source": [
        "## Model comparison\n",
        "\n",
        "In this stage, we can use cross validation again to reduce the overfitting. After re-fitting the models, I will illustrate the variable importance and ROC graphs for each models. "
      ],
      "metadata": {
        "id": "4t-HxEwpUwAJ"
      }
    },
    {
      "cell_type": "code",
      "source": [
        "# evaluate each model in turn\n",
        "models = [(\"LightGBM\", lgbm_tuned),\n",
        "          ('Random Forest', rf_tuned)]\n",
        "results = []\n",
        "names = []\n",
        "for name, model in models:\n",
        "    kfold = KFold(n_splits=10, random_state=42, shuffle=True)\n",
        "    cv_results = cross_val_score(model,data[feature_cols], data[target], cv=10, scoring=\"accuracy\")\n",
        "    results.append(cv_results)\n",
        "    names.append(name)\n",
        "    msg = \"%s: %f (%f)\" % (name, cv_results.mean(), cv_results.std())\n",
        "    print(msg)"
      ],
      "metadata": {
        "colab": {
          "base_uri": "https://localhost:8080/"
        },
        "id": "NOvTZQqsBamG",
        "outputId": "c0f0068f-b4b3-4aa1-d7a6-89406f982c29"
      },
      "execution_count": 61,
      "outputs": [
        {
          "output_type": "stream",
          "name": "stdout",
          "text": [
            "LightGBM: 0.887774 (0.024266)\n",
            "Random Forest: 0.901414 (0.020828)\n"
          ]
        }
      ]
    },
    {
      "cell_type": "code",
      "source": [
        "for name, model in models:\n",
        "        base = model.fit(X_train_res,y_train_res)\n",
        "        y_pred = base.predict(X_test)\n",
        "        acc_score = accuracy_score(y_test, y_pred)\n",
        "        feature_imp = pd.Series(base.feature_importances_,\n",
        "                        index=data[feature_cols].columns).sort_values(ascending=False)\n",
        "\n",
        "        sns.barplot(x=feature_imp, y=feature_imp.index)\n",
        "        plt.xlabel('Importance of Variables')\n",
        "        plt.ylabel('')\n",
        "        plt.title(name)\n",
        "        plt.show()"
      ],
      "metadata": {
        "colab": {
          "base_uri": "https://localhost:8080/",
          "height": 573
        },
        "id": "0X1Kgs2bBnb8",
        "outputId": "6923d40b-99bf-4416-c19c-eb47ee376560"
      },
      "execution_count": 62,
      "outputs": [
        {
          "output_type": "display_data",
          "data": {
            "image/png": "[encoded data removed]",
            "text/plain": [
              "<Figure size 432x288 with 1 Axes>"
            ]
          },
          "metadata": {
            "needs_background": "light"
          }
        },
        {
          "output_type": "display_data",
          "data": {
            "image/png": "[encoded data removed]",
            "text/plain": [
              "<Figure size 432x288 with 1 Axes>"
            ]
          },
          "metadata": {
            "needs_background": "light"
          }
        }
      ]
    },
    {
      "cell_type": "code",
      "source": [
        "first_roc_auc = roc_auc_score(y_test, lgbm_tuned.predict(X_test))\n",
        "fpr, tpr, thresholds = roc_curve(y_test, lgbm_tuned.predict_proba(X_test)[:,1])\n",
        "\n",
        "\n",
        "second_roc_auc = roc_auc_score(y_test, rf_tuned.predict(X_test))\n",
        "second_fpr, second_tpr, second_thresholds = roc_curve(y_test, rf_tuned.predict_proba(X_test)[:,1])\n",
        "\n",
        "plt.figure()\n",
        "\n",
        "plt.plot(fpr, tpr, label='LightGBM (area = %0.2f)' % first_roc_auc)\n",
        "plt.plot(second_fpr, second_tpr, label='Random Forest (area = %0.2f)' % second_roc_auc)\n",
        "\n",
        "\n",
        "plt.plot([0, 1], [0, 1],'r--')\n",
        "plt.xlim([0.0, 1.0])\n",
        "plt.ylim([0.0, 1.05])\n",
        "plt.xlabel('False Positive Rate')\n",
        "plt.ylabel('True Positive Rate')\n",
        "plt.title('Receiver operating characteristic')\n",
        "plt.legend(loc=\"lower right\")\n",
        "plt.show()"
      ],
      "metadata": {
        "id": "xdpeWm7lB1zJ",
        "colab": {
          "base_uri": "https://localhost:8080/",
          "height": 295
        },
        "outputId": "f38f83b2-6e0b-4252-9ae0-c75f36caceb4"
      },
      "execution_count": 66,
      "outputs": [
        {
          "output_type": "display_data",
          "data": {
            "image/png": "[encoded data removed]",
            "text/plain": [
              "<Figure size 432x288 with 1 Axes>"
            ]
          },
          "metadata": {
            "needs_background": "light"
          }
        }
      ]
    },
    {
      "cell_type": "markdown",
      "source": [
        "# Summary\n",
        "- We tested two different data types, one with original, one with SMOTE resampling strategy. While there is no significant improvement seen on acuracy rate, the error rate between train and test set reduces. \n",
        "\n",
        "- While in Base Model Adaboost performs better, on SMOTE Model, Random Forest performed well. So, ensemble models works well with this data and there is only small difference between calculation methods.\n",
        "\n",
        "- The age is the most important variable in data set in each model but the order of feature importance varies according to the model.\n",
        "\n",
        "- Our both models have pretty good ROC results and accurary rates but RF performs well on precision score, which will be more important to focus on churn rate. "
      ],
      "metadata": {
        "id": "tQPTI-ny0Twi"
      }
    },
    {
      "cell_type": "markdown",
      "source": [
        "### Thanks for visit and reading. Please feel free to share your comments and suggestions to improve the model. \n",
        "\n",
        "Ali Unlu "
      ],
      "metadata": {
        "id": "BtyMJWIUHquL"
      }
    }
  ]
}